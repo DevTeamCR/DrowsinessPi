{
 "cells": [
  {
   "cell_type": "code",
   "execution_count": null,
   "metadata": {},
   "outputs": [],
   "source": [
    "import os\n",
    "os.environ['PYTHONHASHSEED']=str(1)"
   ]
  },
  {
   "cell_type": "code",
   "execution_count": null,
   "metadata": {
    "executionInfo": {
     "elapsed": 30,
     "status": "ok",
     "timestamp": 1651711636774,
     "user": {
      "displayName": "Emilio Melo",
      "userId": "02189741753130658608"
     },
     "user_tz": 180
    },
    "id": "Dhwoau8zKZc_"
   },
   "outputs": [],
   "source": [
    "import matplotlib.pyplot as plt\n",
    "import numpy as np\n",
    "import tensorflow as tf\n",
    "import cv2\n",
    "import keras\n",
    "import random\n",
    "from sklearn.metrics import classification_report\n",
    "import time\n",
    "#os.environ[\"CUDA_DEVICE_ORDER\"] = \"PCI_BUS_ID\"   \n",
    "#os.environ[\"CUDA_VISIBLE_DEVICES\"] = \"-1\" # para utilizar la CPU"
   ]
  },
  {
   "cell_type": "code",
   "execution_count": null,
   "metadata": {},
   "outputs": [],
   "source": [
    "def reset_random_seeds():\n",
    "   os.environ['PYTHONHASHSEED']=str(1)\n",
    "   tf.random.set_seed(1)\n",
    "   np.random.seed(1)\n",
    "   random.seed(1)\n",
    "reset_random_seeds()"
   ]
  },
  {
   "cell_type": "code",
   "execution_count": null,
   "metadata": {
    "executionInfo": {
     "elapsed": 28,
     "status": "ok",
     "timestamp": 1651711636774,
     "user": {
      "displayName": "Emilio Melo",
      "userId": "02189741753130658608"
     },
     "user_tz": 180
    },
    "id": "6SfWzWv_MVFW"
   },
   "outputs": [],
   "source": [
    "ruta = \"C:/Users/Emilio/TESINA\""
   ]
  },
  {
   "cell_type": "code",
   "execution_count": null,
   "metadata": {
    "colab": {
     "base_uri": "https://localhost:8080/"
    },
    "executionInfo": {
     "elapsed": 26,
     "status": "ok",
     "timestamp": 1651711636774,
     "user": {
      "displayName": "Emilio Melo",
      "userId": "02189741753130658608"
     },
     "user_tz": 180
    },
    "id": "CsbZ_RdnkqWD",
    "outputId": "9a600e08-383c-4ce0-9fa2-86e319907e0f"
   },
   "outputs": [],
   "source": [
    "directorio_dataset = \"C:/Users/Emilio/TESINA/DATASET_RASPBERRY\"\n",
    "dir_entrenamiento = os.path.join(directorio_dataset, 'entrenamiento')\n",
    "dir_validacion = os.path.join(directorio_dataset, 'validacion')\n",
    "dir_prueba = os.path.join(directorio_dataset, 'prueba')\n",
    "\n",
    "TAMANIO_BATCH = 32\n",
    "TAMANIO_IMG = (165,165)\n",
    "INPUT_SHAPE = (165,165, 3)\n",
    "\n",
    "initial_epochs=3\n",
    "fine_tune_epochs=3\n",
    "\n",
    "dataset_entrenamiento = tf.keras.utils.image_dataset_from_directory(dir_entrenamiento,\n",
    "                                                                    labels='inferred',\n",
    "                                                                    label_mode='binary',\n",
    "                                                                    shuffle=True,\n",
    "                                                                    batch_size=TAMANIO_BATCH,\n",
    "                                                                    image_size=TAMANIO_IMG)"
   ]
  },
  {
   "cell_type": "code",
   "execution_count": null,
   "metadata": {
    "colab": {
     "base_uri": "https://localhost:8080/"
    },
    "executionInfo": {
     "elapsed": 18,
     "status": "ok",
     "timestamp": 1651711636775,
     "user": {
      "displayName": "Emilio Melo",
      "userId": "02189741753130658608"
     },
     "user_tz": 180
    },
    "id": "P7fC_GmUsWFG",
    "outputId": "c5d70e3d-1a3a-4608-e097-67d70ffccb45"
   },
   "outputs": [],
   "source": [
    "dataset_validacion = tf.keras.utils.image_dataset_from_directory(dir_validacion,\n",
    "                                                                 labels='inferred',\n",
    "                                                                 label_mode='binary',\n",
    "                                                                 shuffle=True,\n",
    "                                                                 batch_size=TAMANIO_BATCH,\n",
    "                                                                 image_size=TAMANIO_IMG)"
   ]
  },
  {
   "cell_type": "code",
   "execution_count": null,
   "metadata": {
    "colab": {
     "base_uri": "https://localhost:8080/"
    },
    "executionInfo": {
     "elapsed": 11,
     "status": "ok",
     "timestamp": 1651711636775,
     "user": {
      "displayName": "Emilio Melo",
      "userId": "02189741753130658608"
     },
     "user_tz": 180
    },
    "id": "jB1SKPdhbkaG",
    "outputId": "85fa6bab-ddef-4be9-b107-cb91d86ed6c2"
   },
   "outputs": [],
   "source": [
    "dataset_prueba = tf.keras.utils.image_dataset_from_directory(dir_prueba,\n",
    "                                                             labels='inferred',\n",
    "                                                             label_mode='binary',\n",
    "                                                             shuffle=True,\n",
    "                                                             batch_size=TAMANIO_BATCH,\n",
    "                                                             image_size=TAMANIO_IMG,\n",
    "                                                            )"
   ]
  },
  {
   "cell_type": "code",
   "execution_count": null,
   "metadata": {
    "colab": {
     "base_uri": "https://localhost:8080/",
     "height": 608
    },
    "executionInfo": {
     "elapsed": 1467,
     "status": "ok",
     "timestamp": 1651711638237,
     "user": {
      "displayName": "Emilio Melo",
      "userId": "02189741753130658608"
     },
     "user_tz": 180
    },
    "id": "2_kECiQasf6m",
    "outputId": "e2967653-2424-4d3b-caad-a05a7f54f765"
   },
   "outputs": [],
   "source": [
    "class_names = dataset_entrenamiento.class_names\n",
    "plt.figure(figsize=(10, 10))\n",
    "for images, labels in dataset_entrenamiento.take(1):\n",
    "  print(labels.shape)\n",
    "  labels\n",
    "  for i in range(9):\n",
    "    ax = plt.subplot(3, 3, i + 1)\n",
    "    plt.imshow(images[i].numpy().astype(\"uint8\"))\n",
    "    plt.title(class_names[labels[i].numpy()[0].astype('uint8')])\n",
    "    plt.axis(\"off\")"
   ]
  },
  {
   "cell_type": "code",
   "execution_count": null,
   "metadata": {
    "colab": {
     "base_uri": "https://localhost:8080/"
    },
    "executionInfo": {
     "elapsed": 10,
     "status": "ok",
     "timestamp": 1651711638239,
     "user": {
      "displayName": "Emilio Melo",
      "userId": "02189741753130658608"
     },
     "user_tz": 180
    },
    "id": "xKJbTCk4tC0v",
    "outputId": "1f23cbb7-60ea-42cd-bed6-03b7e28619d8"
   },
   "outputs": [],
   "source": [
    "print('Lotes de validación: %d' % tf.data.experimental.cardinality(dataset_validacion))\n",
    "print('Lotes de prueba: %d' % tf.data.experimental.cardinality(dataset_prueba))"
   ]
  },
  {
   "cell_type": "code",
   "execution_count": null,
   "metadata": {
    "executionInfo": {
     "elapsed": 8,
     "status": "ok",
     "timestamp": 1651711638240,
     "user": {
      "displayName": "Emilio Melo",
      "userId": "02189741753130658608"
     },
     "user_tz": 180
    },
    "id": "63xbiKd-tImr"
   },
   "outputs": [],
   "source": [
    "#Config del dataset para mejorar el rendimiento\n",
    "AUTOTUNE = tf.data.AUTOTUNE\n",
    "\n",
    "dataset_entrenamiento = dataset_entrenamiento.prefetch(buffer_size=AUTOTUNE)\n",
    "dataset_validacion = dataset_validacion.prefetch(buffer_size=AUTOTUNE)\n",
    "dataset_prueba = dataset_prueba.prefetch(buffer_size=AUTOTUNE)"
   ]
  },
  {
   "cell_type": "code",
   "execution_count": null,
   "metadata": {
    "executionInfo": {
     "elapsed": 8,
     "status": "ok",
     "timestamp": 1651711638241,
     "user": {
      "displayName": "Emilio Melo",
      "userId": "02189741753130658608"
     },
     "user_tz": 180
    },
    "id": "YfWsdzgetTMu"
   },
   "outputs": [],
   "source": [
    "#Aumentación del conjunto de entrenamiento, aplicando distintos tipos de transformaciones para generar nuevas muestras del mismo.\n",
    "data_augmentation = tf.keras.Sequential([\n",
    "  tf.keras.layers.RandomFlip('horizontal'),\n",
    "  tf.keras.layers.RandomRotation(0.2),\n",
    "])"
   ]
  },
  {
   "cell_type": "code",
   "execution_count": null,
   "metadata": {
    "colab": {
     "base_uri": "https://localhost:8080/",
     "height": 575
    },
    "executionInfo": {
     "elapsed": 519,
     "status": "ok",
     "timestamp": 1651711638752,
     "user": {
      "displayName": "Emilio Melo",
      "userId": "02189741753130658608"
     },
     "user_tz": 180
    },
    "id": "3NRsV4L7t7r_",
    "outputId": "a964635f-69e8-4efe-8055-677f7926456e"
   },
   "outputs": [],
   "source": [
    "for image, _ in dataset_entrenamiento.take(1):\n",
    "  plt.figure(figsize=(10, 10))\n",
    "  first_image = image[0]\n",
    "  for i in range(9):\n",
    "    ax = plt.subplot(3, 3, i + 1)\n",
    "    augmented_image = data_augmentation(tf.expand_dims(first_image, 0))\n",
    "    plt.imshow(augmented_image[0] / 255)\n",
    "    plt.axis('off')"
   ]
  },
  {
   "cell_type": "code",
   "execution_count": null,
   "metadata": {
    "executionInfo": {
     "elapsed": 12,
     "status": "ok",
     "timestamp": 1651711638754,
     "user": {
      "displayName": "Emilio Melo",
      "userId": "02189741753130658608"
     },
     "user_tz": 180
    },
    "id": "wDeCeigBuUQd"
   },
   "outputs": [],
   "source": [
    "# Reescalado de pixeles a un rango entre -1 y 1, que son los valores de entrada aceptados por el modelo MobileNetV2\n",
    "preprocess_input = tf.keras.applications.mobilenet_v2.preprocess_input"
   ]
  },
  {
   "cell_type": "code",
   "execution_count": null,
   "metadata": {
    "executionInfo": {
     "elapsed": 1012,
     "status": "ok",
     "timestamp": 1651711639756,
     "user": {
      "displayName": "Emilio Melo",
      "userId": "02189741753130658608"
     },
     "user_tz": 180
    },
    "id": "ZLYxApo2vFR9"
   },
   "outputs": [],
   "source": [
    "# Creación del modelo base a partir de MobileNet V2\n",
    "SHAPE_IMG = TAMANIO_IMG + (3,)\n",
    "base_model = tf.keras.applications.MobileNetV2(input_shape=SHAPE_IMG,\n",
    "                                               include_top=False, #evita que las capas superiores de clasificación sean incluídas --> mejor para la extracción de características\n",
    "                                               weights='imagenet')"
   ]
  },
  {
   "cell_type": "code",
   "execution_count": null,
   "metadata": {
    "colab": {
     "base_uri": "https://localhost:8080/"
    },
    "executionInfo": {
     "elapsed": 1287,
     "status": "ok",
     "timestamp": 1651711641041,
     "user": {
      "displayName": "Emilio Melo",
      "userId": "02189741753130658608"
     },
     "user_tz": 180
    },
    "id": "6tBjhWYCwsB1",
    "outputId": "924022e8-3277-467b-af70-06064581f486"
   },
   "outputs": [],
   "source": [
    "image_batch, label_batch = next(iter(dataset_entrenamiento))\n",
    "feature_batch = base_model(image_batch)\n",
    "print(feature_batch.shape)"
   ]
  },
  {
   "cell_type": "code",
   "execution_count": null,
   "metadata": {
    "executionInfo": {
     "elapsed": 76,
     "status": "ok",
     "timestamp": 1651711641042,
     "user": {
      "displayName": "Emilio Melo",
      "userId": "02189741753130658608"
     },
     "user_tz": 180
    },
    "id": "zEq4GvpdxGZl"
   },
   "outputs": [],
   "source": [
    "#Congelar la base convolucional, para evitar que los pesos de una capa se actualicen en el entrenamiento --> importante en Transfer Learning\n",
    "base_model.trainable = False"
   ]
  },
  {
   "cell_type": "code",
   "execution_count": null,
   "metadata": {
    "colab": {
     "base_uri": "https://localhost:8080/"
    },
    "executionInfo": {
     "elapsed": 55,
     "status": "ok",
     "timestamp": 1651711643019,
     "user": {
      "displayName": "Emilio Melo",
      "userId": "02189741753130658608"
     },
     "user_tz": 180
    },
    "id": "fzcWByB4ykQH",
    "outputId": "3eb56515-e3c2-4aee-c836-70dadff9737e"
   },
   "outputs": [],
   "source": [
    "#Convierte las características a un solo vector por imagen de 1280 elementos\n",
    "global_average_layer = tf.keras.layers.GlobalAveragePooling2D()\n",
    "feature_batch_average = global_average_layer(feature_batch)\n",
    "print(feature_batch_average.shape)"
   ]
  },
  {
   "cell_type": "code",
   "execution_count": null,
   "metadata": {
    "colab": {
     "base_uri": "https://localhost:8080/"
    },
    "executionInfo": {
     "elapsed": 25,
     "status": "ok",
     "timestamp": 1651711643020,
     "user": {
      "displayName": "Emilio Melo",
      "userId": "02189741753130658608"
     },
     "user_tz": 180
    },
    "id": "2xmeL0oZzxw3",
    "outputId": "ce548d7a-ce9b-41e9-f0f6-7bf1f0d95dbf"
   },
   "outputs": [],
   "source": [
    "#Se aplica una capa Dense para convertir las características en una sola predicción por imagen\n",
    "prediction_layer = tf.keras.layers.Dense(1,'sigmoid')\n",
    "prediction_batch = prediction_layer(feature_batch_average)\n",
    "print(prediction_batch.shape)"
   ]
  },
  {
   "cell_type": "code",
   "execution_count": null,
   "metadata": {
    "executionInfo": {
     "elapsed": 23,
     "status": "ok",
     "timestamp": 1651711643020,
     "user": {
      "displayName": "Emilio Melo",
      "userId": "02189741753130658608"
     },
     "user_tz": 180
    },
    "id": "F7FJxNHz0mw1"
   },
   "outputs": [],
   "source": [
    "inputs = tf.keras.Input(INPUT_SHAPE)\n",
    "x = data_augmentation(inputs)\n",
    "x = preprocess_input(x)\n",
    "x = base_model(x, training=False)\n",
    "x = global_average_layer(x)\n",
    "x = tf.keras.layers.Dropout(0.2)(x)\n",
    "outputs = prediction_layer(x)\n",
    "model = tf.keras.Model(inputs, outputs)"
   ]
  },
  {
   "cell_type": "code",
   "execution_count": null,
   "metadata": {
    "executionInfo": {
     "elapsed": 23,
     "status": "ok",
     "timestamp": 1651711643021,
     "user": {
      "displayName": "Emilio Melo",
      "userId": "02189741753130658608"
     },
     "user_tz": 180
    },
    "id": "1loXR5J90ubq"
   },
   "outputs": [],
   "source": [
    "#Compilado del modelo\n",
    "base_learning_rate = 0.0001\n",
    "model.compile(optimizer=tf.keras.optimizers.Adam(learning_rate=base_learning_rate),\n",
    "              loss=tf.keras.losses.BinaryCrossentropy(from_logits=False),\n",
    "              metrics=[tf.keras.metrics.BinaryAccuracy()])"
   ]
  },
  {
   "cell_type": "code",
   "execution_count": null,
   "metadata": {
    "colab": {
     "base_uri": "https://localhost:8080/"
    },
    "executionInfo": {
     "elapsed": 23,
     "status": "ok",
     "timestamp": 1651711643021,
     "user": {
      "displayName": "Emilio Melo",
      "userId": "02189741753130658608"
     },
     "user_tz": 180
    },
    "id": "0cL99RKQ03px",
    "outputId": "c03fab02-3930-476f-b442-b546de846465"
   },
   "outputs": [],
   "source": [
    "model.summary()"
   ]
  },
  {
   "cell_type": "code",
   "execution_count": null,
   "metadata": {
    "colab": {
     "base_uri": "https://localhost:8080/"
    },
    "executionInfo": {
     "elapsed": 13,
     "status": "ok",
     "timestamp": 1651711643021,
     "user": {
      "displayName": "Emilio Melo",
      "userId": "02189741753130658608"
     },
     "user_tz": 180
    },
    "id": "YiKVUVzB1CZl",
    "outputId": "c205f4df-6af8-42f6-ccdf-054e051aba55"
   },
   "outputs": [],
   "source": [
    "len(model.trainable_variables)"
   ]
  },
  {
   "cell_type": "code",
   "execution_count": null,
   "metadata": {
    "colab": {
     "base_uri": "https://localhost:8080/"
    },
    "executionInfo": {
     "elapsed": 11901,
     "status": "ok",
     "timestamp": 1651711654915,
     "user": {
      "displayName": "Emilio Melo",
      "userId": "02189741753130658608"
     },
     "user_tz": 180
    },
    "id": "4-IIoNtM1Ld6",
    "outputId": "133deee4-bcbb-4199-aac8-2b02ee73f085",
    "scrolled": true
   },
   "outputs": [],
   "source": [
    "loss0, accuracy0 = model.evaluate(dataset_validacion)"
   ]
  },
  {
   "cell_type": "code",
   "execution_count": null,
   "metadata": {
    "colab": {
     "base_uri": "https://localhost:8080/"
    },
    "executionInfo": {
     "elapsed": 44,
     "status": "ok",
     "timestamp": 1651711654916,
     "user": {
      "displayName": "Emilio Melo",
      "userId": "02189741753130658608"
     },
     "user_tz": 180
    },
    "id": "j0E_7FjI2IXe",
    "outputId": "4ce366ba-045a-4bdb-9a78-d2ee549c9f07"
   },
   "outputs": [],
   "source": [
    "print(\"Pérdida inicial: {:.2f}\".format(loss0))\n",
    "print(\"Exactitud inicial: {:.2f}\".format(accuracy0))"
   ]
  },
  {
   "cell_type": "code",
   "execution_count": null,
   "metadata": {
    "colab": {
     "base_uri": "https://localhost:8080/"
    },
    "executionInfo": {
     "elapsed": 193035,
     "status": "ok",
     "timestamp": 1651711847913,
     "user": {
      "displayName": "Emilio Melo",
      "userId": "02189741753130658608"
     },
     "user_tz": 180
    },
    "id": "cAx0deQw2ORo",
    "outputId": "100646e9-5bb4-478d-8ee1-b4d72f977f0d",
    "scrolled": true
   },
   "outputs": [],
   "source": [
    "#Entrenamiento del modelo\n",
    "callback = tf.keras.callbacks.EarlyStopping(monitor='loss', patience=2)\n",
    "history = model.fit(dataset_entrenamiento,\n",
    "                    epochs=initial_epochs,\n",
    "                    validation_data=dataset_validacion)"
   ]
  },
  {
   "cell_type": "code",
   "execution_count": null,
   "metadata": {
    "colab": {
     "base_uri": "https://localhost:8080/"
    },
    "executionInfo": {
     "elapsed": 754,
     "status": "ok",
     "timestamp": 1651711848644,
     "user": {
      "displayName": "Emilio Melo",
      "userId": "02189741753130658608"
     },
     "user_tz": 180
    },
    "id": "mNWWFUTo3gvn",
    "outputId": "695de473-754d-4508-aba2-b91edae2151e"
   },
   "outputs": [],
   "source": [
    "loss, accuracy = model.evaluate(dataset_prueba)\n",
    "print('Pérdida: ', \"{:.2f}\".format(loss))\n",
    "print('Exactitud :', \"{:.2f}%\".format(accuracy*100))"
   ]
  },
  {
   "cell_type": "code",
   "execution_count": null,
   "metadata": {
    "colab": {
     "base_uri": "https://localhost:8080/",
     "height": 513
    },
    "executionInfo": {
     "elapsed": 37,
     "status": "ok",
     "timestamp": 1651711848645,
     "user": {
      "displayName": "Emilio Melo",
      "userId": "02189741753130658608"
     },
     "user_tz": 180
    },
    "id": "XV_gQtFu5PPz",
    "outputId": "d0aedac6-9b75-412e-da36-844a0c60124a",
    "scrolled": false
   },
   "outputs": [],
   "source": [
    "acc = history.history['binary_accuracy']\n",
    "val_acc = history.history['val_binary_accuracy']\n",
    "\n",
    "loss = history.history['loss']\n",
    "val_loss = history.history['val_loss']\n",
    "\n",
    "plt.figure(figsize=(8, 8))\n",
    "plt.subplot(2, 1, 1)\n",
    "plt.plot(acc, label='Exactitud del entrenamiento')\n",
    "plt.plot(val_acc, label='Exactitud de la validación')\n",
    "plt.legend(loc='lower right')\n",
    "plt.ylabel('Exactitud')\n",
    "plt.ylim([min(plt.ylim()),1])\n",
    "plt.title('Exactitud del entrenamiento y validación')\n",
    "\n",
    "plt.subplot(2, 1, 2)\n",
    "plt.plot(loss, label='Pérdida del entrenamiento')\n",
    "plt.plot(val_loss, label='Pérdida de la valicación')\n",
    "plt.legend(loc='upper right')\n",
    "plt.ylabel('Cross Entropy')\n",
    "plt.ylim([0,1.0])\n",
    "plt.title('Pérdida del entrenamiento y validación')\n",
    "plt.xlabel('Época')\n",
    "plt.show()"
   ]
  },
  {
   "cell_type": "markdown",
   "metadata": {
    "id": "XtUg_KVYNgaZ"
   },
   "source": [
    "**OPTIMIZACIÓN (FINE-TUNING)**\n",
    "Se entrenan los pesos de las capas superiores del modelo pre-entrenado junto con con el entrenamiento del clasificador agregado previamente. De esta forma, los pesos son ajustados de un mapa de características genérico a características asociadas al dataset. \n",
    "La idea es adaptar las características para funcionar con el nuevo dataset, sin sobreescribir el aprendizaje genérico propio del modelo pre-entrenado"
   ]
  },
  {
   "cell_type": "code",
   "execution_count": null,
   "metadata": {
    "executionInfo": {
     "elapsed": 36,
     "status": "ok",
     "timestamp": 1651711848645,
     "user": {
      "displayName": "Emilio Melo",
      "userId": "02189741753130658608"
     },
     "user_tz": 180
    },
    "id": "o9GEZN4PMxwf"
   },
   "outputs": [],
   "source": [
    "##Descongelar modelo \n",
    "base_model.trainable = True"
   ]
  },
  {
   "cell_type": "code",
   "execution_count": null,
   "metadata": {
    "colab": {
     "base_uri": "https://localhost:8080/"
    },
    "executionInfo": {
     "elapsed": 36,
     "status": "ok",
     "timestamp": 1651711848646,
     "user": {
      "displayName": "Emilio Melo",
      "userId": "02189741753130658608"
     },
     "user_tz": 180
    },
    "id": "asxOXWTsWRgW",
    "outputId": "1a2b0455-d999-4bba-8122-e25f01b04df1"
   },
   "outputs": [],
   "source": [
    "# Ajuste fino a partir de la capa 100\n",
    "fine_tune_at = 100\n",
    "\n",
    "# Se deben congelar todas las capas antes de la capa de ajuste fino\n",
    "for layer in base_model.layers[:fine_tune_at]:\n",
    "  layer.trainable = False"
   ]
  },
  {
   "cell_type": "code",
   "execution_count": null,
   "metadata": {
    "executionInfo": {
     "elapsed": 32,
     "status": "ok",
     "timestamp": 1651711848646,
     "user": {
      "displayName": "Emilio Melo",
      "userId": "02189741753130658608"
     },
     "user_tz": 180
    },
    "id": "jsxScyegWekI"
   },
   "outputs": [],
   "source": [
    "model.compile(loss=tf.keras.losses.BinaryCrossentropy(from_logits=False),\n",
    "              optimizer = tf.keras.optimizers.RMSprop(learning_rate=base_learning_rate/10),\n",
    "              metrics=[tf.keras.metrics.BinaryAccuracy(), tf.keras.metrics.Precision(), tf.keras.metrics.Recall()])"
   ]
  },
  {
   "cell_type": "code",
   "execution_count": null,
   "metadata": {
    "colab": {
     "base_uri": "https://localhost:8080/"
    },
    "executionInfo": {
     "elapsed": 396,
     "status": "ok",
     "timestamp": 1651711849010,
     "user": {
      "displayName": "Emilio Melo",
      "userId": "02189741753130658608"
     },
     "user_tz": 180
    },
    "id": "9ho_3gFgWgo9",
    "outputId": "e75e6554-44a5-4139-e54e-09c164d3f3df"
   },
   "outputs": [],
   "source": [
    "model.summary()"
   ]
  },
  {
   "cell_type": "code",
   "execution_count": null,
   "metadata": {
    "colab": {
     "base_uri": "https://localhost:8080/"
    },
    "executionInfo": {
     "elapsed": 11,
     "status": "ok",
     "timestamp": 1651711849011,
     "user": {
      "displayName": "Emilio Melo",
      "userId": "02189741753130658608"
     },
     "user_tz": 180
    },
    "id": "ixyZVKJPWoLh",
    "outputId": "19de57df-f2e6-4f1a-cb63-b7951838671b"
   },
   "outputs": [],
   "source": [
    "len(model.trainable_variables)"
   ]
  },
  {
   "cell_type": "code",
   "execution_count": null,
   "metadata": {
    "colab": {
     "base_uri": "https://localhost:8080/"
    },
    "executionInfo": {
     "elapsed": 692557,
     "status": "ok",
     "timestamp": 1651712541562,
     "user": {
      "displayName": "Emilio Melo",
      "userId": "02189741753130658608"
     },
     "user_tz": 180
    },
    "id": "W7JI7DRRZkm_",
    "outputId": "5786c420-99a6-479c-87c9-1dc69f172675",
    "scrolled": false
   },
   "outputs": [],
   "source": [
    "total_epochs =  initial_epochs + fine_tune_epochs\n",
    "tiempoInicio = time.time()\n",
    "\n",
    "callback = tf.keras.callbacks.EarlyStopping(monitor='loss', patience=3)\n",
    "\n",
    "history_fine = model.fit(dataset_entrenamiento,\n",
    "                         epochs=total_epochs,\n",
    "#                          callbacks=[callback],\n",
    "                         initial_epoch=history.epoch[-1],\n",
    "                         validation_data=dataset_validacion)\n",
    "\n",
    "tiempoTranscurrido = (time.time() - tiempoInicio)\n",
    "tiempoTranscurrido = round(tiempoTranscurrido,1)\n",
    "print ('\\nTiempo de ejecución:', int(tiempoTranscurrido/60), 'minutos')"
   ]
  },
  {
   "cell_type": "code",
   "execution_count": null,
   "metadata": {
    "executionInfo": {
     "elapsed": 13,
     "status": "ok",
     "timestamp": 1651712541563,
     "user": {
      "displayName": "Emilio Melo",
      "userId": "02189741753130658608"
     },
     "user_tz": 180
    },
    "id": "8kJJx2LqdP3k"
   },
   "outputs": [],
   "source": [
    "acc += history_fine.history['binary_accuracy']\n",
    "val_acc += history_fine.history['val_binary_accuracy']\n",
    "\n",
    "loss += history_fine.history['loss']\n",
    "val_loss += history_fine.history['val_loss']"
   ]
  },
  {
   "cell_type": "code",
   "execution_count": null,
   "metadata": {
    "colab": {
     "base_uri": "https://localhost:8080/",
     "height": 513
    },
    "executionInfo": {
     "elapsed": 841,
     "status": "ok",
     "timestamp": 1651712542399,
     "user": {
      "displayName": "Emilio Melo",
      "userId": "02189741753130658608"
     },
     "user_tz": 180
    },
    "id": "Y5sUoze0dUQB",
    "outputId": "76443839-7271-46bf-8ced-d709d214762d"
   },
   "outputs": [],
   "source": [
    "plt.figure(figsize=(8, 8))\n",
    "plt.subplot(2, 1, 1)\n",
    "plt.plot(acc, label='Exactitud del entrenamiento')\n",
    "plt.plot(val_acc, label='Exactitud de la validación')\n",
    "plt.ylim([0.8, 1])\n",
    "plt.plot([initial_epochs-1,initial_epochs-1],\n",
    "          plt.ylim(), label='Comienzo del ajuste fino')\n",
    "plt.legend(loc='lower right')\n",
    "plt.title('Exactitud del entrenamiento y validación')\n",
    "\n",
    "plt.subplot(2, 1, 2)\n",
    "plt.plot(loss, label='Pérdida del entrenamiento')\n",
    "plt.plot(val_loss, label='Pérdida de la validación')\n",
    "plt.ylim([0, 1.0])\n",
    "plt.plot([initial_epochs-1,initial_epochs-1],\n",
    "         plt.ylim(), label='Comienzo del ajuste fino')\n",
    "plt.legend(loc='upper right')\n",
    "plt.title('Pérdida del entrenamiento y validación')\n",
    "plt.xlabel('Época')\n",
    "plt.show()"
   ]
  },
  {
   "cell_type": "code",
   "execution_count": null,
   "metadata": {
    "colab": {
     "base_uri": "https://localhost:8080/"
    },
    "executionInfo": {
     "elapsed": 7,
     "status": "ok",
     "timestamp": 1651712542399,
     "user": {
      "displayName": "Emilio Melo",
      "userId": "02189741753130658608"
     },
     "user_tz": 180
    },
    "id": "6BcxbHBbt-Vr",
    "outputId": "b7c367c4-b815-4b39-a8e4-31dca4bafecc"
   },
   "outputs": [],
   "source": [
    "loss, accuracy, precision, recall= model.evaluate(dataset_prueba)\n",
    "print('Pérdida: ', \"{:.2f}\".format(loss))\n",
    "print('Exactitud :', \"{:.2f}%\".format(accuracy*100))\n",
    "print('Recall:', \"{:.2f}%\".format(recall*100))\n",
    "print('Precisión:', \"{:.2f}%\".format(precision*100))"
   ]
  },
  {
   "cell_type": "code",
   "execution_count": null,
   "metadata": {
    "colab": {
     "base_uri": "https://localhost:8080/",
     "height": 817
    },
    "executionInfo": {
     "elapsed": 6284,
     "status": "ok",
     "timestamp": 1651712623732,
     "user": {
      "displayName": "Emilio Melo",
      "userId": "02189741753130658608"
     },
     "user_tz": 180
    },
    "id": "Ty9qqhxdpZCH",
    "outputId": "b7adef39-6dd4-46c0-f888-5cddb143461d"
   },
   "outputs": [],
   "source": [
    "# Obtiene un lote del conjunto de prueba para su predicción\n",
    "image_batch, label_batch = dataset_prueba.as_numpy_iterator().next()\n",
    "predictions = model.predict_on_batch(image_batch).flatten()\n",
    "predictions = tf.where(predictions < 0.5, 0, 1)\n",
    "predictions = predictions.numpy()\n",
    "print('Predicciones:\\n', predictions)\n",
    "print('Etiquetas:\\n', label_batch.flatten().astype(np.int32))\n",
    "print(classification_report(label_batch, predictions))\n",
    "\n",
    "plt.figure(figsize=(10, 10))\n",
    "for i in range(9):\n",
    "  ax = plt.subplot(3, 3, i + 1)\n",
    "  plt.imshow(image_batch[i].astype(\"uint8\"))\n",
    "  plt.title(class_names[predictions[i]])\n",
    "  plt.axis(\"off\")"
   ]
  },
  {
   "cell_type": "code",
   "execution_count": null,
   "metadata": {
    "id": "Y6LqxvNJfOHv"
   },
   "outputs": [],
   "source": [
    "# model =  tf.keras.models.load_model(ruta +'Somnolencia_MobileNetV2/model.h5')"
   ]
  },
  {
   "cell_type": "code",
   "execution_count": null,
   "metadata": {
    "colab": {
     "base_uri": "https://localhost:8080/",
     "height": 286
    },
    "executionInfo": {
     "elapsed": 524,
     "status": "ok",
     "timestamp": 1651710715694,
     "user": {
      "displayName": "Emilio Melo",
      "userId": "02189741753130658608"
     },
     "user_tz": 180
    },
    "id": "GCPmrHq5-Yy_",
    "outputId": "448ab6de-c30f-4ec0-e9be-f16c84eba61a"
   },
   "outputs": [],
   "source": [
    "#Generar matriz de confusión\n",
    "import seaborn as sns\n",
    "from sklearn.metrics import confusion_matrix\n",
    "\n",
    "matriz = tf.math.confusion_matrix(\n",
    "              label_batch,\n",
    "              predictions,\n",
    "              num_classes=None,\n",
    "              weights=None,\n",
    "              dtype=tf.dtypes.int32,\n",
    "              name=None\n",
    "          )\n",
    "cf_matrix = confusion_matrix(label_batch, predictions)\n",
    "sns.heatmap(cf_matrix, annot=True)"
   ]
  },
  {
   "cell_type": "code",
   "execution_count": null,
   "metadata": {
    "id": "Sy4A4TiZe8ra"
   },
   "outputs": [],
   "source": [
    "#model = model.save(ruta +\"/Somnolencia_MobileNetV2/model.h5\")"
   ]
  },
  {
   "cell_type": "code",
   "execution_count": null,
   "metadata": {
    "colab": {
     "base_uri": "https://localhost:8080/"
    },
    "executionInfo": {
     "elapsed": 45789,
     "status": "ok",
     "timestamp": 1650149565634,
     "user": {
      "displayName": "Emilio Melo",
      "userId": "02189741753130658608"
     },
     "user_tz": 180
    },
    "id": "uyoci-4dusXE",
    "outputId": "e596d041-06a3-4190-ca3f-d7dbb628caaa"
   },
   "outputs": [],
   "source": [
    "# Conversión del modelo a TensorFlow Lite\n",
    "converter = tf.lite.TFLiteConverter.from_keras_model(model)\n",
    "tflite_model = converter.convert()\n",
    "\n",
    "# Guardar el modelo\n",
    "with open(ruta +'/Somnolencia_MobileNetV2/model.tflite', 'wb') as f:\n",
    "  f.write(tflite_model)"
   ]
  },
  {
   "cell_type": "code",
   "execution_count": null,
   "metadata": {},
   "outputs": [],
   "source": []
  }
 ],
 "metadata": {
  "colab": {
   "collapsed_sections": [],
   "name": "Entrenamiento_somnolencia.ipynb",
   "provenance": []
  },
  "kernelspec": {
   "display_name": "tf",
   "language": "python",
   "name": "tf"
  },
  "language_info": {
   "codemirror_mode": {
    "name": "ipython",
    "version": 3
   },
   "file_extension": ".py",
   "mimetype": "text/x-python",
   "name": "python",
   "nbconvert_exporter": "python",
   "pygments_lexer": "ipython3",
   "version": "3.8.0"
  }
 },
 "nbformat": 4,
 "nbformat_minor": 1
}
