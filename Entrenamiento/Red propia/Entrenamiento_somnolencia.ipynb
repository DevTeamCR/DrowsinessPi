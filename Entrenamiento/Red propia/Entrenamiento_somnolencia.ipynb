{
 "cells": [
  {
   "cell_type": "code",
   "execution_count": null,
   "metadata": {},
   "outputs": [],
   "source": [
    "import os\n",
    "os.environ['PYTHONHASHSEED']=str(1)"
   ]
  },
  {
   "cell_type": "code",
   "execution_count": null,
   "metadata": {
    "executionInfo": {
     "elapsed": 355,
     "status": "ok",
     "timestamp": 1652307810572,
     "user": {
      "displayName": "Macarena Quiroga",
      "userId": "07783690454671163543"
     },
     "user_tz": 180
    },
    "id": "Dhwoau8zKZc_"
   },
   "outputs": [],
   "source": [
    "import matplotlib.pyplot as plt\n",
    "import numpy as np\n",
    "import tensorflow as tf\n",
    "import cv2\n",
    "import keras\n",
    "import random\n",
    "from sklearn.metrics import classification_report\n",
    "import time\n",
    "from keras.models import Sequential\n",
    "from keras import regularizers\n",
    "from keras.layers import Conv2D, MaxPool2D, Flatten, Dense, Dropout, BatchNormalization, GlobalAveragePooling2D, MaxPooling2D"
   ]
  },
  {
   "cell_type": "code",
   "execution_count": null,
   "metadata": {},
   "outputs": [],
   "source": [
    "def reset_random_seeds():\n",
    "   os.environ['PYTHONHASHSEED']=str(1)\n",
    "   tf.random.set_seed(1)\n",
    "   np.random.seed(1)\n",
    "   random.seed(1)\n",
    "reset_random_seeds()"
   ]
  },
  {
   "cell_type": "code",
   "execution_count": null,
   "metadata": {
    "executionInfo": {
     "elapsed": 2,
     "status": "ok",
     "timestamp": 1652307811579,
     "user": {
      "displayName": "Macarena Quiroga",
      "userId": "07783690454671163543"
     },
     "user_tz": 180
    },
    "id": "6SfWzWv_MVFW"
   },
   "outputs": [],
   "source": [
    "ruta_drive = \"C:/Users/Emilio/TESINA\""
   ]
  },
  {
   "cell_type": "code",
   "execution_count": null,
   "metadata": {
    "colab": {
     "base_uri": "https://localhost:8080/"
    },
    "executionInfo": {
     "elapsed": 330,
     "status": "ok",
     "timestamp": 1652307812243,
     "user": {
      "displayName": "Macarena Quiroga",
      "userId": "07783690454671163543"
     },
     "user_tz": 180
    },
    "id": "CsbZ_RdnkqWD",
    "outputId": "015da98a-f508-4efa-bb21-c9ec900b4689"
   },
   "outputs": [],
   "source": [
    "directorio_dataset = \"C:/Users/Emilio/TESINA/DATASET_RASPBERRY\"\n",
    "\n",
    "dir_entrenamiento = os.path.join(directorio_dataset, 'entrenamiento')\n",
    "dir_validacion = os.path.join(directorio_dataset, 'validacion')\n",
    "dir_prueba = os.path.join(directorio_dataset, 'prueba')\n",
    "\n",
    "TAMANIO_BATCH = 32\n",
    "TAMANIO_IMG = (165,165)\n",
    "epocas = 8\n",
    "dataset_entrenamiento = tf.keras.utils.image_dataset_from_directory(dir_entrenamiento,\n",
    "                                                                    labels='inferred',\n",
    "                                                                    label_mode='binary',\n",
    "                                                                    shuffle=True,\n",
    "                                                                    batch_size=TAMANIO_BATCH,\n",
    "                                                                    image_size=TAMANIO_IMG)"
   ]
  },
  {
   "cell_type": "code",
   "execution_count": null,
   "metadata": {
    "colab": {
     "base_uri": "https://localhost:8080/"
    },
    "executionInfo": {
     "elapsed": 5,
     "status": "ok",
     "timestamp": 1652307813432,
     "user": {
      "displayName": "Macarena Quiroga",
      "userId": "07783690454671163543"
     },
     "user_tz": 180
    },
    "id": "P7fC_GmUsWFG",
    "outputId": "f150473c-a016-463b-9275-9a5c5e875dde"
   },
   "outputs": [],
   "source": [
    "dataset_validacion = tf.keras.utils.image_dataset_from_directory(dir_validacion,\n",
    "                                                                 labels='inferred',\n",
    "                                                                 label_mode='binary',\n",
    "                                                                 shuffle=True,\n",
    "                                                                 batch_size=TAMANIO_BATCH,\n",
    "                                                                 image_size=TAMANIO_IMG)"
   ]
  },
  {
   "cell_type": "code",
   "execution_count": null,
   "metadata": {
    "colab": {
     "base_uri": "https://localhost:8080/"
    },
    "executionInfo": {
     "elapsed": 2,
     "status": "ok",
     "timestamp": 1652307815391,
     "user": {
      "displayName": "Macarena Quiroga",
      "userId": "07783690454671163543"
     },
     "user_tz": 180
    },
    "id": "jB1SKPdhbkaG",
    "outputId": "a1664588-5c00-407b-b1ae-4faff1930ad7"
   },
   "outputs": [],
   "source": [
    "dataset_prueba = tf.keras.utils.image_dataset_from_directory(dir_prueba,\n",
    "                                                             labels='inferred',\n",
    "                                                             label_mode='binary',\n",
    "                                                             shuffle=True,\n",
    "                                                             batch_size=TAMANIO_BATCH,\n",
    "                                                             image_size=TAMANIO_IMG,\n",
    "                                                            )"
   ]
  },
  {
   "cell_type": "code",
   "execution_count": null,
   "metadata": {
    "colab": {
     "base_uri": "https://localhost:8080/",
     "height": 608
    },
    "executionInfo": {
     "elapsed": 2079,
     "status": "ok",
     "timestamp": 1652307819200,
     "user": {
      "displayName": "Macarena Quiroga",
      "userId": "07783690454671163543"
     },
     "user_tz": 180
    },
    "id": "2_kECiQasf6m",
    "outputId": "f9b3064b-220e-4b25-96d7-38701b3575c0"
   },
   "outputs": [],
   "source": [
    "class_names = dataset_entrenamiento.class_names\n",
    "plt.figure(figsize=(10, 10))\n",
    "for images, labels in dataset_entrenamiento.take(1):\n",
    "  print(labels.shape)\n",
    "  labels\n",
    "  for i in range(8):\n",
    "    ax = plt.subplot(3, 3, i + 1)\n",
    "    plt.imshow(images[i].numpy().astype(\"uint8\"))\n",
    "    plt.title(class_names[labels[i].numpy()[0].astype('uint8')])\n",
    "    plt.axis(\"off\")"
   ]
  },
  {
   "cell_type": "code",
   "execution_count": null,
   "metadata": {
    "colab": {
     "base_uri": "https://localhost:8080/"
    },
    "executionInfo": {
     "elapsed": 9,
     "status": "ok",
     "timestamp": 1652307819201,
     "user": {
      "displayName": "Macarena Quiroga",
      "userId": "07783690454671163543"
     },
     "user_tz": 180
    },
    "id": "xKJbTCk4tC0v",
    "outputId": "46628ae7-1c41-4d8d-8b0c-0777cbb45c45"
   },
   "outputs": [],
   "source": [
    "print('Lotes de validación: %d' % tf.data.experimental.cardinality(dataset_validacion))\n",
    "print('Lotes de prueba: %d' % tf.data.experimental.cardinality(dataset_prueba))"
   ]
  },
  {
   "cell_type": "code",
   "execution_count": null,
   "metadata": {
    "executionInfo": {
     "elapsed": 8,
     "status": "ok",
     "timestamp": 1652307819202,
     "user": {
      "displayName": "Macarena Quiroga",
      "userId": "07783690454671163543"
     },
     "user_tz": 180
    },
    "id": "63xbiKd-tImr"
   },
   "outputs": [],
   "source": [
    "#Config del dataset para mejorar el rendimiento\n",
    "AUTOTUNE = tf.data.AUTOTUNE\n",
    "\n",
    "dataset_entrenamiento = dataset_entrenamiento.prefetch(buffer_size=AUTOTUNE)\n",
    "dataset_validacion = dataset_validacion.prefetch(buffer_size=AUTOTUNE)\n",
    "dataset_prueba = dataset_prueba.prefetch(buffer_size=AUTOTUNE)"
   ]
  },
  {
   "cell_type": "code",
   "execution_count": null,
   "metadata": {
    "executionInfo": {
     "elapsed": 1,
     "status": "ok",
     "timestamp": 1652307819538,
     "user": {
      "displayName": "Macarena Quiroga",
      "userId": "07783690454671163543"
     },
     "user_tz": 180
    },
    "id": "YfWsdzgetTMu"
   },
   "outputs": [],
   "source": [
    "#Aumentación del conjunto de entrenamiento, aplicando distintos tipos de transformaciones para generar nuevas muestras del mismo.\n",
    "data_augmentation = tf.keras.Sequential([\n",
    "  tf.keras.layers.RandomFlip('horizontal'),\n",
    "  tf.keras.layers.RandomRotation(0.2),\n",
    "])"
   ]
  },
  {
   "cell_type": "code",
   "execution_count": null,
   "metadata": {
    "colab": {
     "base_uri": "https://localhost:8080/",
     "height": 575
    },
    "executionInfo": {
     "elapsed": 2029,
     "status": "ok",
     "timestamp": 1652307822445,
     "user": {
      "displayName": "Macarena Quiroga",
      "userId": "07783690454671163543"
     },
     "user_tz": 180
    },
    "id": "3NRsV4L7t7r_",
    "outputId": "6d77059d-f173-4a28-cb18-beea5ed54f32"
   },
   "outputs": [],
   "source": [
    "for image, _ in dataset_entrenamiento.take(1):\n",
    "  plt.figure(figsize=(10, 10))\n",
    "  first_image = image[0]\n",
    "  for i in range(9):\n",
    "    ax = plt.subplot(3, 3, i + 1)\n",
    "    augmented_image = data_augmentation(tf.expand_dims(first_image, 0))\n",
    "    plt.imshow(augmented_image[0] / 255)\n",
    "    plt.axis('off')"
   ]
  },
  {
   "cell_type": "markdown",
   "metadata": {
    "id": "C3FsqWUMFo1e"
   },
   "source": [
    "**Modelo de 4 capas - Relu**"
   ]
  },
  {
   "cell_type": "code",
   "execution_count": null,
   "metadata": {
    "executionInfo": {
     "elapsed": 314,
     "status": "ok",
     "timestamp": 1652307825706,
     "user": {
      "displayName": "Macarena Quiroga",
      "userId": "07783690454671163543"
     },
     "user_tz": 180
    },
    "id": "g-WLMpwcWFgy"
   },
   "outputs": [],
   "source": [
    "def create_model():\n",
    "    model = Sequential()\n",
    "    \n",
    "    model.add(Conv2D(16, kernel_size = [3,3], padding = 'same', activation = 'relu', input_shape = (165,165,3)))\n",
    "    model.add(Conv2D(32, kernel_size = [3,3], padding = 'same', activation = 'relu'))\n",
    "    model.add(MaxPool2D(pool_size = [3,3]))\n",
    "        \n",
    "    model.add(BatchNormalization())\n",
    "    \n",
    "    model.add(Flatten())\n",
    "    model.add(Dropout(0.2))\n",
    "    model.add(Dense(1, activation = 'sigmoid'))\n",
    "    \n",
    "    model.compile(optimizer=tf.keras.optimizers.Adam(), \n",
    "                  loss = tf.keras.losses.BinaryCrossentropy(), \n",
    "                  metrics = [\"accuracy\", keras.metrics.Recall(), keras.metrics.Precision()])\n",
    "    \n",
    "    print(\"MODELO CREADO\")\n",
    "    model.summary()\n",
    "    \n",
    "    return model\n",
    "\n",
    "def fit_model():\n",
    "    model_hist = model.fit(dataset_entrenamiento, epochs=epocas, validation_data=dataset_validacion)\n",
    "    return model_hist "
   ]
  },
  {
   "cell_type": "code",
   "execution_count": null,
   "metadata": {
    "colab": {
     "base_uri": "https://localhost:8080/"
    },
    "executionInfo": {
     "elapsed": 458043,
     "status": "ok",
     "timestamp": 1652308287055,
     "user": {
      "displayName": "Macarena Quiroga",
      "userId": "07783690454671163543"
     },
     "user_tz": 180
    },
    "id": "7fGCRB2vKZNe",
    "outputId": "55eae069-70cc-413d-9eda-10c2bd9f4114"
   },
   "outputs": [],
   "source": [
    "model = create_model()\n",
    "tiempoInicio = time.time()\n",
    "curr_model_hist = fit_model()\n",
    "\n",
    "tiempoTranscurrido = (time.time() - tiempoInicio)\n",
    "tiempoTranscurrido = round(tiempoTranscurrido,1)\n",
    "print ('\\nTiempo de ejecución:', int(tiempoTranscurrido/60), 'minutos')\n",
    "\n",
    "metricas = model.evaluate(dataset_prueba)"
   ]
  },
  {
   "cell_type": "code",
   "execution_count": null,
   "metadata": {
    "colab": {
     "base_uri": "https://localhost:8080/"
    },
    "executionInfo": {
     "elapsed": 48,
     "status": "ok",
     "timestamp": 1652308287056,
     "user": {
      "displayName": "Macarena Quiroga",
      "userId": "07783690454671163543"
     },
     "user_tz": 180
    },
    "id": "NdAX7qnTXU5p",
    "outputId": "b493b1cb-e062-4c46-8859-1a099c817994"
   },
   "outputs": [],
   "source": [
    "print(\"Eficacia del test = \", \"{:.2f}%\".format(metricas[1]*100),\n",
    "      \"\\nPérdida del test = \" ,\"{:.2f}\".format(metricas[0]),\n",
    "      \"\\nRecall del test = \" ,\"{:.2f}%\".format(metricas[2]*100),\n",
    "      \"\\nPrecisión del test = \" ,\"{:.2f}%\".format(metricas[3]*100))"
   ]
  },
  {
   "cell_type": "code",
   "execution_count": null,
   "metadata": {
    "_uuid": "ad0ae00b99bd641fc4b1ac931cdcb1a1ca3d4902",
    "colab": {
     "base_uri": "https://localhost:8080/",
     "height": 0
    },
    "executionInfo": {
     "elapsed": 735,
     "status": "ok",
     "timestamp": 1652308287783,
     "user": {
      "displayName": "Macarena Quiroga",
      "userId": "07783690454671163543"
     },
     "user_tz": 180
    },
    "id": "d5X1Dee2Fo1g",
    "outputId": "35b6cc10-7559-4c03-e764-eb4e872fc714"
   },
   "outputs": [],
   "source": [
    "acc = curr_model_hist.history['accuracy']\n",
    "val_acc = curr_model_hist.history['val_accuracy']\n",
    "\n",
    "loss = curr_model_hist.history['loss']\n",
    "val_loss = curr_model_hist.history['val_loss']\n",
    "\n",
    "plt.figure(figsize=(8, 8))\n",
    "plt.subplot(2, 1, 1)\n",
    "plt.plot(acc, label='Exactitud del entrenamiento')\n",
    "plt.plot(val_acc, label='Exactitud de la validación')\n",
    "plt.legend(loc='lower right')\n",
    "plt.ylabel('Accuracy')\n",
    "plt.ylim([min(plt.ylim()),1])\n",
    "plt.title('Exactitud del entrenamiento y validación')\n",
    "\n",
    "plt.subplot(2, 1, 2)\n",
    "plt.plot(loss, label='Pérdida del entrenamiento')\n",
    "plt.plot(val_loss, label='Pérdida de la valicación')\n",
    "plt.legend(loc='upper right')\n",
    "plt.ylabel('Cross Entropy')\n",
    "plt.ylim([0,1.0])\n",
    "plt.title('Pérdida del entrenamiento y validación')\n",
    "plt.xlabel('Época')\n",
    "plt.show()"
   ]
  },
  {
   "cell_type": "code",
   "execution_count": null,
   "metadata": {
    "colab": {
     "base_uri": "https://localhost:8080/",
     "height": 0
    },
    "executionInfo": {
     "elapsed": 997,
     "status": "ok",
     "timestamp": 1652308288768,
     "user": {
      "displayName": "Macarena Quiroga",
      "userId": "07783690454671163543"
     },
     "user_tz": 180
    },
    "id": "Ty9qqhxdpZCH",
    "outputId": "ef700f06-45b4-43b3-b3d0-e8eb1f0b39b2"
   },
   "outputs": [],
   "source": [
    "# Obtiene un lote del conjunto de prueba para su predicción\n",
    "image_batch, label_batch = dataset_prueba.as_numpy_iterator().next()\n",
    "predictions = model.predict_on_batch(image_batch).flatten()\n",
    "predictions = np.round(predictions,1).astype(np.int32)\n",
    "\n",
    "print('Predicciones:\\n', predictions)\n",
    "print('Etiquetas:\\n', label_batch.flatten().astype(np.int32))\n",
    "print(classification_report(label_batch, predictions))\n",
    "\n",
    "plt.figure(figsize=(10, 10))\n",
    "for i in range(9):\n",
    "  ax = plt.subplot(3, 3, i + 1)\n",
    "  plt.imshow(image_batch[i].astype(\"uint8\"))\n",
    "  plt.title(class_names[predictions[i]])\n",
    "  plt.axis(\"off\")"
   ]
  },
  {
   "cell_type": "code",
   "execution_count": null,
   "metadata": {
    "colab": {
     "base_uri": "https://localhost:8080/",
     "height": 0
    },
    "executionInfo": {
     "elapsed": 27,
     "status": "ok",
     "timestamp": 1652308288770,
     "user": {
      "displayName": "Macarena Quiroga",
      "userId": "07783690454671163543"
     },
     "user_tz": 180
    },
    "id": "GCPmrHq5-Yy_",
    "outputId": "0a8bbaca-fb65-4cc9-8bd6-0839b16d24aa"
   },
   "outputs": [],
   "source": [
    "import seaborn as sns\n",
    "from sklearn.metrics import confusion_matrix\n",
    "\n",
    "matriz = tf.math.confusion_matrix(\n",
    "              label_batch,\n",
    "              predictions,\n",
    "              num_classes=None,\n",
    "              weights=None,\n",
    "              dtype=tf.dtypes.int32,\n",
    "              name=None\n",
    "          )\n",
    "cf_matrix = confusion_matrix(label_batch, predictions)\n",
    "sns.heatmap(cf_matrix, annot=True)"
   ]
  }
 ],
 "metadata": {
  "colab": {
   "collapsed_sections": [],
   "name": "Entrenamiento_somnolencia.ipynb",
   "provenance": []
  },
  "kernelspec": {
   "display_name": "Python 3",
   "language": "python",
   "name": "python3"
  },
  "language_info": {
   "codemirror_mode": {
    "name": "ipython",
    "version": 3
   },
   "file_extension": ".py",
   "mimetype": "text/x-python",
   "name": "python",
   "nbconvert_exporter": "python",
   "pygments_lexer": "ipython3",
   "version": "3.8.5"
  }
 },
 "nbformat": 4,
 "nbformat_minor": 1
}
